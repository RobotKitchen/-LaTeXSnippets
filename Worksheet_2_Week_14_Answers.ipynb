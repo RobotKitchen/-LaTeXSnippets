{
  "nbformat": 4,
  "nbformat_minor": 0,
  "metadata": {
    "kernelspec": {
      "display_name": "Python 3",
      "language": "python",
      "name": "python3"
    },
    "language_info": {
      "codemirror_mode": {
        "name": "ipython",
        "version": 3
      },
      "file_extension": ".py",
      "mimetype": "text/x-python",
      "name": "python",
      "nbconvert_exporter": "python",
      "pygments_lexer": "ipython3",
      "version": "3.9.1"
    },
    "colab": {
      "name": "Worksheet 2 Week 14 Answers.ipynb",
      "provenance": [],
      "include_colab_link": true
    }
  },
  "cells": [
    {
      "cell_type": "markdown",
      "metadata": {
        "id": "view-in-github",
        "colab_type": "text"
      },
      "source": [
        "<a href=\"https://colab.research.google.com/github/enunezs/-LaTeXSnippets/blob/main/Worksheet_2_Week_14_Answers.ipynb\" target=\"_parent\"><img src=\"https://colab.research.google.com/assets/colab-badge.svg\" alt=\"Open In Colab\"/></a>"
      ]
    },
    {
      "cell_type": "markdown",
      "metadata": {
        "id": "bXublwZ7NxEx"
      },
      "source": [
        "# Introduction\n",
        "\n",
        "This worksheet covers the three supervised learning algorithms we looked at in week 14: k-nearest neighbours, linear regression, and the naive Bayes classifier. Similar to last week, you will do some work implementing your own versions of these algorithms, to ensure that you understand the details of them. You will also compare them with the implementations in scikit-learn to test your implementations."
      ]
    },
    {
      "cell_type": "markdown",
      "metadata": {
        "id": "ayrXHFTaNxFD"
      },
      "source": [
        "# Preliminaries\n",
        "Import key packages: NumPy, matplotlib, and any others that you prefer to work with. In general, when writing code, you will put all your import statements at the top. However, for these worksheets we will import as we go along."
      ]
    },
    {
      "cell_type": "code",
      "metadata": {
        "id": "ENllu93RNxFF"
      },
      "source": [
        "#TODO: import NumPy and matplotlib here\n",
        "import numpy as np\n",
        "import matplotlib.pyplot as plt"
      ],
      "execution_count": null,
      "outputs": []
    },
    {
      "cell_type": "markdown",
      "metadata": {
        "id": "wfRxzedbNxFI"
      },
      "source": [
        "# Question 1: k-nearest neighbours classification\n",
        "In this question we will use the k-nearest neighbours algorithm to make predictions on the breast cancer Wisconsin dataset. This is a classification problem where the aim is to classify instances as either being malignant or benign based on the following 10 features:\n",
        "1. radius (mean of distances from center to points on the perimeter)\n",
        "2. texture (standard deviation of gray-scale values)\n",
        "3. perimeter\n",
        "4. area\n",
        "5. smoothness (local variation in radius lengths)\n",
        "6. compactness (perimeter squared/ area −1)\n",
        "7. concavity (severity of concave portions of the contour)\n",
        "8. concave points (number of concave portions of the contour)\n",
        "9. symmetry\n",
        "10. fractal dimension (‘coastline approximation’ −1)\n",
        "\n",
        "In this question you will (a) download the dataset from sklearn and store the data and targets in suitable variables, (b) separate your data into a training and test split, (c) write your own function to implement k-nearest neighbours, (d) check your implementation with that of sklearn. Wethen go on to (e) select the most appropriate value of $k$ using cross-validation."
      ]
    },
    {
      "cell_type": "markdown",
      "metadata": {
        "id": "U2_evHjHNxFJ"
      },
      "source": [
        "## Part (a)\n",
        "Import the package `datasets` from `sklearn` and then load the breast cancer dataset (function is `load_breast_cancer()`). Save the data into a variable `X` and the targets into a variable `Y`. \n",
        "Take a look at the data in `X`. How many datapoints are there? How many features does each datapoint have? (Hint: use `np.shape`).\n",
        "Take a look at the targets. Is this suitable for a classification algorithm or a regression algorithm?"
      ]
    },
    {
      "cell_type": "code",
      "metadata": {
        "id": "_BAX-zBCNxFK"
      },
      "source": [
        "#TODO: import suitable packages, load the dataset, and save data and targets into variables X and Y\n",
        "from sklearn import datasets\n",
        "\n",
        "breast_cancer = datasets.load_breast_cancer()\n",
        "X = breast_cancer.data\n",
        "Y = breast_cancer.target"
      ],
      "execution_count": null,
      "outputs": []
    },
    {
      "cell_type": "markdown",
      "metadata": {
        "id": "pU1txs18NxFL"
      },
      "source": [
        "## Part (b)\n",
        "\n",
        "Use the function `train_test_split` from `sklearn.model_selection` to split your data into a training set and a held-out test set. Use a test set that is 0.2 of the original dataset. Set the parameter `random_state` to 10 to help with replication."
      ]
    },
    {
      "cell_type": "code",
      "metadata": {
        "id": "-s208kHSNxFM"
      },
      "source": [
        "# TODO: import the package train_test_split from sklearn.model_selection.\n",
        "# Split the dataset into Xtr, Xtest, Ytr, Ytest. Xtest and Ytest will form your held-out\n",
        "# test set. You will later split Xtr and Ytr into training and validation sets.\n",
        "from sklearn.model_selection import train_test_split\n",
        "Xtr, Xtest, Ytr, Ytest = train_test_split(X, Y, test_size = 0.2, random_state = 10)"
      ],
      "execution_count": null,
      "outputs": []
    },
    {
      "cell_type": "markdown",
      "metadata": {
        "id": "K-Mmqn_jNxFN"
      },
      "source": [
        "## Part (c) \n",
        "Recall from the lecture that the k-nearest neighbours algorithm runs as follows:\n",
        "\n",
        "Training step: Simply store the dataset\n",
        "\n",
        "Prediction step: Given a datapoint $\\vec{x}$:\n",
        " - **Find** the k datapoints $(\\vec{x}_i, y_i)$ where the distance from $\\vec{x}$ to $\\vec{x}_i$ is smallest\n",
        " - **Return** the majority class from the $y_i$\n",
        "   \n",
        " \n",
        "What, if anything, do you need to do for the training step?\n",
        "\n",
        "Write function(s) to implement the k-nearest neighbours prediction step. You may wish to break the procedure down into two functions `predict_datapoint` that makes a prediction for one datapoint and `predict_data` that loops over the whole dataset.\n",
        "\n",
        "To select the majority class from the nearest neighbours, you can use the function `scipy.stats.mode()`\n"
      ]
    },
    {
      "cell_type": "code",
      "metadata": {
        "id": "bqi7ws1WNxFP"
      },
      "source": [
        "from scipy.stats import mode\n",
        "##TODO##: \n",
        "# Write function(s) to implement the prediction step in k-nearest neighbours. \n",
        "# You can use the suggested structure below if desired.\n",
        "\n",
        "# predict_datapoint takes 4 arguments. pt (type: numpy array) is the datapoint we are making a prediction about, \n",
        "# Xtrain and Ytrain (numpy arrays) are training data and targets, k (int) is the number of neighbours.\n",
        "# Returns an integer which is the predicted class for pt\n",
        "def predict_datapoint(pt, Xtrain, Ytrain, k):\n",
        "    \n",
        "    # For each datapoint in Xtrain, calculate the distance to pt and store\n",
        "    dists = np.linalg.norm(Xtrain-pt, axis=1)\n",
        "\n",
        "        \n",
        "    # Sort the list of distances (hint: use np.argsort)\n",
        "    indices = np.argsort(dists)\n",
        "    \n",
        "    # obtain the classes (in Ytrain) of the datapoints with the smallest distance to pt\n",
        "    classes = Ytrain[indices[:k]]\n",
        "    \n",
        "    # return the mode of the classes\n",
        "    return mode(classes).mode[0]\n",
        "\n",
        "# predict_data takes 4 arguments: the test data Xtst (numpy array), the training data Xtrain (numpy array),\n",
        "# the training targets Ytrain (numpy array), and the number of neighbours k (int, default = 3). \n",
        "# Returns: predictions (array of int) for each point in Xtst\n",
        "def predict_data(Xtst, Xtrain, Ytrain, k=3):\n",
        "    #Loop over the datapoints in Xtst and store the prediction for that datapoint\n",
        "    preds = []\n",
        "    for x in Xtst:\n",
        "        preds.append(predict_datapoint(x, Xtrain, Ytrain, k))\n",
        "        \n",
        "    # Return the predictions\n",
        "    return preds\n",
        "\n",
        "# Predict values for the TRAINING data (we will not look at the test set yet)\n",
        "my_Ypred = predict_data(Xtr, Xtr, Ytr)"
      ],
      "execution_count": null,
      "outputs": []
    },
    {
      "cell_type": "markdown",
      "metadata": {
        "id": "GvclffEENxFQ"
      },
      "source": [
        "## Part (d)\n",
        "Now we can compare your implementation with the sklearn implementation (you should get the same results). Firstly import the classfifier `KNeighborsClassifier` from `sklearn.neighbors`. Instantiate the classifier with the same number of neighbours that you used previously. Fit the model and make a prediction on the test set."
      ]
    },
    {
      "cell_type": "code",
      "metadata": {
        "id": "-iwk3HHLNxFS"
      },
      "source": [
        "##TODO##\n",
        "# Import KNeighborClassifier\n",
        "from sklearn.neighbors import KNeighborsClassifier\n",
        "\n",
        "# Instantiate the classifier with 3 neighbors\n",
        "knn = KNeighborsClassifier(n_neighbors=3)\n",
        "\n",
        "#Fit the classifier on the training data\n",
        "model=knn.fit(Xtr, Ytr)\n",
        "\n",
        "#Make a prediction on the training data\n",
        "Ypred=model.predict(Xtr)"
      ],
      "execution_count": null,
      "outputs": []
    },
    {
      "cell_type": "markdown",
      "metadata": {
        "id": "-TybxelxNxFT"
      },
      "source": [
        "Check whether your predictions are the same as the predictions from `KNeighborsClassifier`."
      ]
    },
    {
      "cell_type": "code",
      "metadata": {
        "colab": {
          "base_uri": "https://localhost:8080/"
        },
        "id": "icoVYe60NxFT",
        "outputId": "deeb2501-a7fd-46d3-b337-81e8c9e717f4"
      },
      "source": [
        "##TODO## Write your answer here\n",
        "np.all(my_Ypred==Ypred)"
      ],
      "execution_count": null,
      "outputs": [
        {
          "output_type": "execute_result",
          "data": {
            "text/plain": [
              "True"
            ]
          },
          "metadata": {
            "tags": []
          },
          "execution_count": 6
        }
      ]
    },
    {
      "cell_type": "markdown",
      "metadata": {
        "id": "GnGWvs4yNxFU"
      },
      "source": [
        "Use the built in metrics in sklearn to calculate the accuracy of your classifier on the TRAINING set."
      ]
    },
    {
      "cell_type": "code",
      "metadata": {
        "colab": {
          "base_uri": "https://localhost:8080/"
        },
        "id": "gWBNrjGuNxFU",
        "outputId": "76eaa495-60fd-4841-fc51-1a0a83ef4bfe"
      },
      "source": [
        "##TODO## Write your answer here\n",
        "from sklearn.metrics import accuracy_score\n",
        "accuracytr=accuracy_score(Ytr,my_Ypred)\n",
        "print(accuracytr)"
      ],
      "execution_count": null,
      "outputs": [
        {
          "output_type": "stream",
          "text": [
            "0.9560439560439561\n"
          ],
          "name": "stdout"
        }
      ]
    },
    {
      "cell_type": "markdown",
      "metadata": {
        "id": "aQBGgNhUNxFV"
      },
      "source": [
        "## Part(e) Using cross-validation for model selection\n",
        "k-nearest neighbours has the parameter $k$, and we need to decide which is the best value of $k$ to use. Last week we talked about using cross-validation for model selection.\n",
        "\n",
        "We will use cross-validation on our training set to select the best value of $k$, in a range from 1 to 30.\n",
        "\n",
        "NB: use sklearn's version of k-NN rather than yours, since unless you have optimised yours it is probably too slow.\n",
        "\n",
        "Since we are using cross-validation for model selection we will cross-validate on the training set only.\n",
        "\n",
        "Procedure:\n",
        "        \n",
        " 1. Import `KFold` from `sklearn.model_selection`  \n",
        " 1. Instantiate `KFold` with 5 splits. Set the parameter `random_state` to help you reproduce your results if needed.\n",
        " 1. Set a variable `max_k` to 30  \n",
        " 1. Inititalise two variables to store the training accuracies and validation accuracies (these need to store max_k\\*5 accuracies)  \n",
        " 1. Loop over the values of k:  \n",
        "    1. Instantiate a k-nn classifier (Use the sklearn classifier) with the current value of k  \n",
        "    1. Loop over the cross-validation splits:  \n",
        "       1. fit the model on the current split of data  \n",
        "       1. make predictions  \n",
        "       1. calculate training and validation accuracy and store  \n",
        " 6. Calculate the mean training and validation accuracies across splits for each $k$\n",
        "\n",
        "Plot the mean training and validation accuracies. Which value of $k$ will you use? Why?\n",
        "    "
      ]
    },
    {
      "cell_type": "code",
      "metadata": {
        "id": "96k57PhyNxFX"
      },
      "source": [
        "##TODO##\n",
        "# Import KFold from sklearn.model_selection\n",
        "from sklearn.model_selection import KFold\n",
        "\n",
        "# Instantiate KFold with 5 splits. \n",
        "# Set the parameter random_state to help you reproduce your results if needed.\n",
        "cv = KFold(n_splits=5,random_state=10, shuffle=True)\n",
        "\n",
        "# Set a variable max_k to 30 \n",
        "max_k = 30\n",
        "\n",
        "# Inititalise two variables to store the \n",
        "# training accuracies and validation accuracies \n",
        "# (these need to store max_k*5 accuracies) \n",
        "trainaccuracy = [[] for _ in range(max_k)]\n",
        "valaccuracy = [[] for _ in range(max_k)]\n",
        "\n",
        "# Loop over the values of k: \n",
        "for k in range(max_k):\n",
        "    \n",
        "    # Instantiate a k-nn classifier (Use the sklearn classifier) with the current value of k \n",
        "    knn = KNeighborsClassifier(n_neighbors=k+1)\n",
        "    # Loop over the cross-validation splits: \n",
        "    for train_index, val_index in cv.split(Xtr):\n",
        "        Xtrain, Xval, Ytrain, Yval = Xtr[train_index],\\\n",
        "            Xtr[val_index], Ytr[train_index], Ytr[val_index]\n",
        "        # fit the model on the current split of data \n",
        "        model=knn.fit(Xtrain, Ytrain)\n",
        "        # make predictions \n",
        "        Ypredtrain=model.predict(Xtrain)\n",
        "        Ypredval=model.predict(Xval)\n",
        "        # calculate training and validation accuracy and store \n",
        "        trainaccuracy[k].append(accuracy_score(Ytrain,Ypredtrain))\n",
        "        valaccuracy[k].append(accuracy_score(Yval,Ypredval))\n",
        "\n",
        "# Calculate the mean training and validation accuracies across splits for each k\n",
        "mean_train_acc = np.mean(trainaccuracy, axis=1)\n",
        "mean_val_acc = np.mean(valaccuracy, axis=1)"
      ],
      "execution_count": null,
      "outputs": []
    },
    {
      "cell_type": "code",
      "metadata": {
        "colab": {
          "base_uri": "https://localhost:8080/"
        },
        "id": "d9uJKdigNxFX",
        "outputId": "da11db5a-adb2-4acb-a03e-364ab286b47f"
      },
      "source": [
        "##TODO#\n",
        "# Plot the mean training and validation accuracies. Which value of 𝑘 will you use? Why?\n",
        "x = range(1, max_k+1)\n",
        "plt.plot(x, mean_train_acc, label='Training Accuracy')\n",
        "plt.plot(x, mean_val_acc, label='Validation Accuracy')\n",
        "plt.legend()\n",
        "plt.xlabel('k')\n",
        "plt.ylabel('Accuracy')"
      ],
      "execution_count": null,
      "outputs": [
        {
          "output_type": "execute_result",
          "data": {
            "text/plain": [
              "Text(0, 0.5, 'Accuracy')"
            ]
          },
          "metadata": {
            "tags": []
          },
          "execution_count": 9
        },
        {
          "output_type": "display_data",
          "data": {
            "image/png": "[encoded data removed]",
            "text/plain": [
              "<Figure size 432x288 with 1 Axes>"
            ]
          },
          "metadata": {
            "tags": [],
            "needs_background": "light"
          }
        }
      ]
    },
    {
      "cell_type": "markdown",
      "metadata": {
        "id": "SCliE9g0NxFX"
      },
      "source": [
        "# The naive Bayes classifier\n",
        "\n",
        "Recall from the lecture notes that the naive Bayes classifier works as follows. We are trying to approximate an unknown function $$f:\\Omega \\rightarrow \\mathcal{O}$$\n",
        "where $\\Omega$ is our feature space and our output space $\\mathcal{O} = \\{c_1, c_2, ... c_K\\}$ is a finite set of classes.\n",
        "\n",
        "The naive Bayes classifier does this by building a model that assigns the class label $\\hat{y} = c_k$ as follows:\n",
        "$$\n",
        "\\hat{y} = \\text{argmax}_k p(c_k)\\prod_i p(x_i| c_k)\n",
        "$$\n",
        "i.e., the $k$ that maximises this quantity.\n",
        "\n",
        "In practice, multiplying all the $p(x_i| c_k)$ together is going to give some very small values. Therefore, we can take the log to make it easier to compute:\n",
        "\\begin{align}\n",
        "\\hat{y} &= \\text{argmax}_k p(c_k)\\prod_i p(x_i| c_k)= \\text{argmax}_k log(p(c_k)\\prod_i p(x_i| c_k))\\\\\n",
        "&=\\text{argmax}_k log(p(c_k)) + \\sum_i log(p(x_i|c_k))\n",
        "\\end{align}\n",
        "\n",
        "If we choose that $p(x_i|c_k)$ is given by a normal distribution with mean $\\mu_k$ and variance $\\sigma_k^2$, then we obtain the following expression:\n",
        "\n",
        "\\begin{align}\n",
        "\\hat{y} &=\\text{argmax}_k \\log(p(c_k)) + \\sum_i \\log(p(x_i|c_k))\\\\\n",
        "&= \\text{argmax}_k \\log(p(c_k)) + \\sum_i \\log\\left(\\frac{1}{\\sigma_k\\sqrt{2\\pi}} exp\\left(\\frac{-(x-\\mu_k)^2}{2\\sigma_k}\\right)\\right)\\\\\n",
        "&= \\text{argmax}_k \\log(p(c_k)) - \\sum_i \\log\\left(\\sigma_k\\sqrt{2\\pi}\\right) - \\sum_i\\left(\\frac{(x-\\mu_k)^2}{2\\sigma_k}\\right) \\quad \\text{ log-likelihood}\n",
        "\\end{align}\n",
        "\n",
        "Expressing the values in terms of these sums means that they do not get so small, and it is less likely that there will be errors at the machine precision level.\n",
        "\n",
        "\n",
        "How do we implement this in practice? We assume that each probability $p(x_i| c_k)$ is given by some distribution, and then given a datapoint $\\vec{x}$, we plug the value into the equation for the distribution.\n",
        "\n",
        "In this question you will (a) implement your own version of the Gaussian naive Bayes classifier, (b) check your classifier against the implementation in sci-kit learn, (c) compare the accuracy of the naive Bayes classifier with the accuracy of the k-nearest neighbours classifier, and (d) run cross-validation to verify whether the kNN classfier or the Gaussian naive Bayes classifier performs better on this dataset.\n",
        "\n",
        "## Part (a) Implementing Gaussian naive Bayes\n",
        "For this question we will make the assumption that each feature is described by a normal (also called Gaussian) distribution. The procedure is as follows:\n",
        "1. Divide the training data by class\n",
        "2. Calculate mean and standard deviation per class and per feature\n",
        "4. For each datapoint in the validation set, calculate the log-likelihood for each class and for each feature (Hint: use the function `scipy.stats.norm.logpdf`)\n",
        "5. Combine these values together with the probability of the class according to the log-likelihood equation above\n",
        "6. Choose the class with the highest value\n"
      ]
    },
    {
      "cell_type": "code",
      "metadata": {
        "id": "cx71pUbQNxFY"
      },
      "source": [
        "##TODO##\n",
        "# Write your own implementation of naive Bayes applied to the breast cancer dataset.\n",
        "\n",
        "# If you wish you can follow the structure below\n",
        "from scipy.stats import norm\n",
        "\n",
        "# Split the training data into training and validation sets with an 80:20 split. \n",
        "# Set the random state to help with reproducibility\n",
        "Xtrain, Xval, Ytrain, Yval = train_test_split(Xtr, Ytr, test_size = 0.2, random_state=10)\n",
        "\n",
        "#Separate the training set into classes, so you have one set of data for each class\n",
        "data0 = Xtrain[Ytrain==0]\n",
        "data1 = Xtrain[Ytrain==1]\n",
        "\n",
        "# Calculate the means and standard deviations for each class, for each feature. \n",
        "# There are 30 features in the dataset, so you should have a 30-dimensional \n",
        "# array of means for each class and a 30-dimensional array of standard deviations\n",
        "# for each class. Remember that you can take the average across rows or columns of \n",
        "# a matrix by specifying axis = 1 or axis = 0\n",
        "\n",
        "means0 = np.mean(data0, axis=0)\n",
        "stds0 = np.std(data0, axis=0)\n",
        "means1 = np.mean(data1, axis=0)\n",
        "stds1 = np.std(data1, axis=0)\n",
        "\n",
        "# Calculate the prior probability p(c_i) for each class\n",
        "prob_c0 = len(data0)/len(Xtrain)\n",
        "prob_c1 = len(data1)/len(Xtrain)\n",
        "\n",
        "# Calculate the log-likelihood of each class for each datapoint in the validation set\n",
        "# Hint: you can use the function scipy.stats.norm.logpdf to help with this\n",
        "ll_0 = np.log(prob_c0) + np.sum(norm.logpdf(Xval, loc=means0, scale=stds0), axis=1)\n",
        "ll_1 = np.log(prob_c1) + np.sum(norm.logpdf(Xval, loc=means1, scale=stds1), axis=1)\n",
        "\n",
        "# Your predicted class is 0 if class 0 has the highest log-likelihood, and 1 if class 1 \n",
        "# has the highest log-likelihood\n",
        "classes = ll_0 < ll_1"
      ],
      "execution_count": null,
      "outputs": []
    },
    {
      "cell_type": "markdown",
      "metadata": {
        "id": "8oh6I5qKNxFZ"
      },
      "source": [
        "## Part (b) Checking results\n",
        "We now compare our results with the sklearn implementation. "
      ]
    },
    {
      "cell_type": "code",
      "metadata": {
        "id": "4m0qOgpiNxFa"
      },
      "source": [
        "##Import the classifier GaussianNB from sklearn.naive_bayes\n",
        "from sklearn.naive_bayes import GaussianNB\n",
        "# Instantiate the classifier (use the parameter var_smoothing=0.0),\n",
        "# fit, and predict the classes\n",
        "gnb = GaussianNB(var_smoothing=0.)\n",
        "gnb.fit(Xtrain, Ytrain)\n",
        "\n",
        "val_preds = gnb.predict(Xval)"
      ],
      "execution_count": null,
      "outputs": []
    },
    {
      "cell_type": "code",
      "metadata": {
        "colab": {
          "base_uri": "https://localhost:8080/"
        },
        "id": "HxlBQ3LvNxFb",
        "outputId": "9bc627ae-d4bc-453b-f0bb-25239ce63bb2"
      },
      "source": [
        "# Compare your predicted classes with those of the sklearn implementation.\n",
        "# If they are not identical, this may be due to some differences in parameter setting. \n",
        "# They should be almost all the same, however.\n",
        "\n",
        "np.all(val_preds == classes)"
      ],
      "execution_count": null,
      "outputs": [
        {
          "output_type": "execute_result",
          "data": {
            "text/plain": [
              "True"
            ]
          },
          "metadata": {
            "tags": []
          },
          "execution_count": 12
        }
      ]
    },
    {
      "cell_type": "markdown",
      "metadata": {
        "id": "or3I6-ZTNxFb"
      },
      "source": [
        "## Part (c) Comparing k-nearest neighbours and Gaussian naive Bayes\n",
        "Now retrain the naive Bayes classifier using the original training set `Xtr`, `Ytr`.\n",
        "Also, retrain the k-nearest neighbours classifier using `Xtr` and `Ytr`. Use the value of $k$ that you decided on using cross-validation.\n",
        "You can use the sklearn implementations of knn and naive Bayes.\n",
        "\n",
        "Compute the accuracy of the naive Bayes classifier over the training set and the held-out test set.\n",
        "\n",
        "Compare with the accuracy of the k-nearest neighbours classifier on each set.\n",
        "\n",
        "Is it clear which classifier is the best on this dataset? why or why not?"
      ]
    },
    {
      "cell_type": "code",
      "metadata": {
        "scrolled": false,
        "colab": {
          "base_uri": "https://localhost:8080/"
        },
        "id": "XWYjYdHPNxFc",
        "outputId": "fae0ff88-7183-4d66-c290-c762b139be1a"
      },
      "source": [
        "##TODO## Write your answer here\n",
        "knn = KNeighborsClassifier(n_neighbors=8) #8 was the best performing value on the validation set\n",
        "\n",
        "gnb.fit(Xtr, Ytr)\n",
        "knn.fit(Xtr, Ytr)\n",
        "\n",
        "gnb_tr = gnb.predict(Xtr)\n",
        "gnb_test = gnb.predict(Xtest)\n",
        "\n",
        "knn_tr = knn.predict(Xtr)\n",
        "knn_test = knn.predict(Xtest)\n",
        "\n",
        "print(f'\\tTrain\\t Test')\n",
        "print(f'GNB\\t{accuracy_score(Ytr, gnb_tr):.4f}\\t{accuracy_score(Ytest, gnb_test):.4f}')\n",
        "print(f'kNN\\t{accuracy_score(Ytr, knn_tr):.4f}\\t{accuracy_score(Ytest, knn_test):.4f}')\n"
      ],
      "execution_count": null,
      "outputs": [
        {
          "output_type": "stream",
          "text": [
            "\tTrain\t Test\n",
            "GNB\t0.9275\t0.9561\n",
            "kNN\t0.9451\t0.9298\n"
          ],
          "name": "stdout"
        }
      ]
    },
    {
      "cell_type": "markdown",
      "metadata": {
        "id": "axoJtEO1NxFd"
      },
      "source": [
        "## Part (d) Using cross-validation for statistical validation\n",
        "Earlier we used cross-validation to select the model parameters we would be using. We can also use it another way: to provide statistical information about which model is best. We will set up cross-validation on the whole dataset, with 10 folds.\n",
        "\n",
        " - Compute the accuracy for each model on the test set on each fold.\n",
        " - Calculate the mean accuracy across folds. Which model performs best?\n",
        " - Make a box-plot of the spread of scores of each model. Is there a clear difference between model performance?\n",
        " - Perform a paired t-test on the accuracy scores. What can you conclude about the performance of the two models?\n"
      ]
    },
    {
      "cell_type": "code",
      "metadata": {
        "id": "HwYjKw48NxFd"
      },
      "source": [
        "##TODO##\n",
        "# Set up a k-fold cross-validation with 10 folds\n",
        "cv = KFold(n_splits=10, shuffle=True)"
      ],
      "execution_count": null,
      "outputs": []
    },
    {
      "cell_type": "code",
      "metadata": {
        "id": "1AaUwSrMNxFd"
      },
      "source": [
        "##TODO##\n",
        "scoresknn=[]\n",
        "scoresnb=[]\n",
        "\n",
        "# For each fold, fit each model on the training data \n",
        "# and compute accuracy on the test data.\n",
        "for train_index, test_index in cv.split(X):\n",
        "    Xtr, Xtest = X[train_index], X[test_index]\n",
        "    Ytr, Ytest = Y[train_index], Y[test_index]\n",
        "    modelknn=knn.fit(Xtr, Ytr)\n",
        "    modelnb=gnb.fit(Xtr, Ytr)\n",
        "    Ypredknn=modelknn.predict(Xtest)\n",
        "    Yprednb=modelnb.predict(Xtest)\n",
        "    scoresknn.append(accuracy_score(Ytest,Ypredknn))\n",
        "    scoresnb.append(accuracy_score(Ytest,Yprednb))"
      ],
      "execution_count": null,
      "outputs": []
    },
    {
      "cell_type": "code",
      "metadata": {
        "colab": {
          "base_uri": "https://localhost:8080/"
        },
        "id": "5eATaUgRNxFe",
        "outputId": "64bbba4a-1132-48ae-e398-7a7e4150d859"
      },
      "source": [
        "# Compute the mean and standard devation of the accuracies for each model.\n",
        "# Does one model perform better?\n",
        "print(f'knn: mean={np.mean(scoresknn)}, sd={np.std(scoresknn)}')\n",
        "print(f'nb: mean={np.mean(scoresnb)},sd={np.std(scoresnb)}')"
      ],
      "execution_count": null,
      "outputs": [
        {
          "output_type": "stream",
          "text": [
            "knn: mean=0.9349310776942357, sd=0.03251029981073627\n",
            "nb: mean=0.9331766917293234,sd=0.04145011518205014\n"
          ],
          "name": "stdout"
        }
      ]
    },
    {
      "cell_type": "code",
      "metadata": {
        "colab": {
          "base_uri": "https://localhost:8080/"
        },
        "id": "XDgl3e-jNxFe",
        "outputId": "06ef5295-afed-4b33-9464-def10dcc6f5c"
      },
      "source": [
        "# Make a boxplot of the accuracy scores. Is there a clear difference between the models?\n",
        "box_plot_data=[scoresknn,scoresnb]\n",
        "plt.boxplot(box_plot_data,labels=['knn','nb'])\n",
        "plt.show()"
      ],
      "execution_count": null,
      "outputs": [
        {
          "output_type": "display_data",
          "data": {
            "image/png": "[encoded data removed]",
            "text/plain": [
              "<Figure size 432x288 with 1 Axes>"
            ]
          },
          "metadata": {
            "tags": [],
            "needs_background": "light"
          }
        }
      ]
    },
    {
      "cell_type": "markdown",
      "metadata": {
        "id": "MarpgsXwNxFe"
      },
      "source": [
        "The box plots show that there is no clear difference in performance between the two models"
      ]
    },
    {
      "cell_type": "code",
      "metadata": {
        "scrolled": true,
        "colab": {
          "base_uri": "https://localhost:8080/"
        },
        "id": "vH8G-TwrNxFe",
        "outputId": "68d59b10-4489-4827-a834-1c451f48d623"
      },
      "source": [
        "# Perform a paired t-test (you can use the function scipy.stats.ttest_rel). \n",
        "# What do you conclude about the performance of the two models?\n",
        "from scipy.stats import ttest_rel\n",
        "print(ttest_rel(scoresknn,scoresnb))"
      ],
      "execution_count": null,
      "outputs": [
        {
          "output_type": "stream",
          "text": [
            "Ttest_relResult(statistic=0.16058631827165723, pvalue=0.8759659087784052)\n"
          ],
          "name": "stdout"
        }
      ]
    },
    {
      "cell_type": "markdown",
      "metadata": {
        "id": "b2yBLoB4NxFf"
      },
      "source": [
        "The outcome of the paired t-test shows that the performance of the models are not significantly different"
      ]
    },
    {
      "cell_type": "markdown",
      "metadata": {
        "id": "Byas8kmMNxFf"
      },
      "source": [
        "## Linear Regression\n",
        "In linear regression we make the assumption that the data $(x_i, y_i)$ can be modelled by a function of the form\n",
        "$$ \\hat{y_i} = f(\\vec{x}_i)= \\sum_j a_j x_{ij}  + b_i$$\n",
        "\n",
        "Recall that we can express this in a matrix format by:\n",
        "$$ \\hat{\\vec{y}} = f(X)= X\\Theta$$\n",
        "\n",
        "where \n",
        "$$ X=\\begin{pmatrix}\n",
        "x_{1,1} & x_{1,2} & \\ldots & x_{1,n} &1 \\\\\n",
        "\\vdots & \\vdots & \\ldots & \\vdots & \\vdots \\\\\n",
        "x_{N,1} & x_{N,2} & \\ldots & x_{N,n} & 1\n",
        "\\end{pmatrix}, \\quad \\vec{y}=\\begin{pmatrix} y_1 \\\\ \\vdots \\\\y_N \\end{pmatrix}, \\quad \\Theta=\\begin{pmatrix} a_1 \\\\ \\vdots \\\\a_n\\\\b \\end{pmatrix}$$\n",
        "\n",
        "We saw in lectures that the optimal value of $\\Theta$ is given by setting\n",
        "$$ \\Theta = (X^T X)^{-1} X^T \\vec{y}$$\n",
        "\n",
        "The quantity $(X^T X)^{-1} X^T$ is called the psuedoinverse of X, and can be computed using the function `np.linalg.pinv`.\n",
        "\n",
        "We will (a) perform a linear regression on the diabetes dataset. You can load this dataset using the function `load_diabetes` from `sklearn.datasets`. (b) compute the mean squared error and the R^2, and (c) compare your results with the built in function in sklearn (`sklearn.linear_model.LinearRegresion()`). You should get the same results."
      ]
    },
    {
      "cell_type": "code",
      "metadata": {
        "id": "WR9PnChJNxFf"
      },
      "source": [
        "# import statments here\n",
        "import math\n",
        "from sklearn import datasets, linear_model\n",
        "from sklearn.model_selection import train_test_split\n",
        "from sklearn.metrics import mean_squared_error, r2_score"
      ],
      "execution_count": null,
      "outputs": []
    },
    {
      "cell_type": "markdown",
      "metadata": {
        "id": "7OH0B1H7NxFg"
      },
      "source": [
        "## Part (a) Implementing linear regression"
      ]
    },
    {
      "cell_type": "code",
      "metadata": {
        "id": "QS-DfzVyNxFh"
      },
      "source": [
        "# Load the diabetes dataset\n",
        "diabetes = datasets.load_diabetes()\n",
        "X = diabetes.data\n",
        "Y = diabetes.target\n",
        "\n",
        "# Split the dataset into training, validation and test, using test_size=0.2\n",
        "Xtr, Xtest, Ytr, Ytest = train_test_split(X, Y, test_size=0.2, random_state=0)\n",
        "Xtrain, Xval, Ytrain, Yval = train_test_split(Xtr, Ytr, test_size=0.2, random_state=0)"
      ],
      "execution_count": null,
      "outputs": []
    },
    {
      "cell_type": "code",
      "metadata": {
        "id": "GLnwlUgzNxFh"
      },
      "source": [
        "# Add a column of ones to your Xtrain and Xtest for the intercept term\n",
        "Wtrain=np.hstack([Xtrain, np.ones((len(Xtrain),1))])\n",
        "Wval=np.hstack([Xval, np.ones((len(Xval),1))])\n",
        "Wtest=np.hstack([Xtest, np.ones((len(Xtest),1))])"
      ],
      "execution_count": null,
      "outputs": []
    },
    {
      "cell_type": "code",
      "metadata": {
        "id": "QKTHOE0YNxFh"
      },
      "source": [
        "# Calculate the value of the coefficients theta. You can use the function np.linalg.pinv\n",
        "theta = np.linalg.pinv(Wtrain).dot(Ytrain)"
      ],
      "execution_count": null,
      "outputs": []
    },
    {
      "cell_type": "markdown",
      "metadata": {
        "id": "jhMXvPR8NxFh"
      },
      "source": [
        "## Part (b) Computing performance metrics"
      ]
    },
    {
      "cell_type": "code",
      "metadata": {
        "id": "xD7UcNz-NxFi"
      },
      "source": [
        "# Make a prediction on the test set by applying the coefficients theta to the test set\n",
        "my_pred = Wval.dot(theta)"
      ],
      "execution_count": null,
      "outputs": []
    },
    {
      "cell_type": "code",
      "metadata": {
        "colab": {
          "base_uri": "https://localhost:8080/"
        },
        "id": "bIKTH-W6NxFi",
        "outputId": "f11bd570-0fea-42b7-90f8-1fb4543a0c1a"
      },
      "source": [
        "# Calculate the mean squared error and the R^2. \n",
        "# You can use the built in functions from sklearn\n",
        "print(f'mean squared error= {mean_squared_error(my_pred, Yval):.4f}')\n",
        "print(f'R^2={r2_score(my_pred, Yval):.4f}')"
      ],
      "execution_count": null,
      "outputs": [
        {
          "output_type": "stream",
          "text": [
            "mean squared error= 2837.4607\n",
            "R^2=0.1941\n"
          ],
          "name": "stdout"
        }
      ]
    },
    {
      "cell_type": "markdown",
      "metadata": {
        "id": "g-6MA0i5NxFj"
      },
      "source": [
        "## Part (c) Checking results\n",
        "Compare your results with the built in function `sklearn.linear_model.LinearRegression()`"
      ]
    },
    {
      "cell_type": "code",
      "metadata": {
        "id": "ikqQ0j1eNxFj"
      },
      "source": [
        "regr = linear_model.LinearRegression()"
      ],
      "execution_count": null,
      "outputs": []
    },
    {
      "cell_type": "code",
      "metadata": {
        "colab": {
          "base_uri": "https://localhost:8080/"
        },
        "id": "w4j85RwLNxFj",
        "outputId": "a78b26c8-8037-40cf-efbf-51a52dc91701"
      },
      "source": [
        "regr.fit(Xtrain, Ytrain)\n",
        "pred = regr.predict(Xval)\n",
        "print(f'mean squared error= {mean_squared_error(pred, Yval):.4f}')\n",
        "print(f'R^2={r2_score(pred, Yval):.4f}')"
      ],
      "execution_count": null,
      "outputs": [
        {
          "output_type": "stream",
          "text": [
            "mean squared error= 2837.4607\n",
            "R^2=0.1941\n"
          ],
          "name": "stdout"
        }
      ]
    },
    {
      "cell_type": "markdown",
      "metadata": {
        "id": "mnWFNViHNxFj"
      },
      "source": [
        "Visualise the perfomance of the regression by plotting your predicted values vs target values on a scatter plot, and drawing a line y=x. If all predictions were perfect, the predicted values would lie on the line."
      ]
    },
    {
      "cell_type": "code",
      "metadata": {
        "colab": {
          "base_uri": "https://localhost:8080/"
        },
        "id": "zCpz_mr9NxFk",
        "outputId": "658b59bb-7cb5-428a-c23e-ba3dd7fee3e6"
      },
      "source": [
        "\n",
        "plt.ylim(20, 350)\n",
        "plt.xlim(20, 350)\n",
        "plt.scatter(pred,Yval,color='black')\n",
        "x = np.linspace(20,350,100) \n",
        "y=x\n",
        "plt.plot(x, y,color='blue')"
      ],
      "execution_count": null,
      "outputs": [
        {
          "output_type": "execute_result",
          "data": {
            "text/plain": [
              "[<matplotlib.lines.Line2D at 0x7fafb8a11f60>]"
            ]
          },
          "metadata": {
            "tags": []
          },
          "execution_count": 27
        },
        {
          "output_type": "display_data",
          "data": {
            "image/png": "[encoded data removed]",
            "text/plain": [
              "<Figure size 432x288 with 1 Axes>"
            ]
          },
          "metadata": {
            "tags": [],
            "needs_background": "light"
          }
        }
      ]
    },
    {
      "cell_type": "markdown",
      "metadata": {
        "id": "0DWUFxI4NxFk"
      },
      "source": [
        "# Extra question: Polynomial regression\n",
        "The term 'linear' in linear regression refers only to the coefficients $\\theta$. We can in fact compute polynomial terms in the data and perform linear regression over this extended dataset to get a better fit to the data.\n",
        "\n",
        "To compute polynomial terms in the data automatically, you can use the class `sklearn.preprocessing.PolynomialFeatures`. To find out how to use it, look at the guidance (you can type `help(PolynomialFeatures)` once you have imported it).\n",
        "\n",
        "The following small dataset (in the cell below) gives a relationship between temperature and yield for an experiment. Use cross-validation to select the degree of the polynomial that best fits this data.\n",
        "\n",
        "Plot the mean squared error against degree on the training set and on the validation set. Which degree of polynomial best fits this data?"
      ]
    },
    {
      "cell_type": "code",
      "metadata": {
        "id": "dNHSt2aeNxFl"
      },
      "source": [
        "X = np.array([50,50,50,70,70,70,80,80,80,90,90,90,100,100,100]).reshape(-1, 1)\n",
        "y = np.array([3.3,2.8,2.9,2.3,2.6,2.1,2.5,2.9,2.4,3,3.1,2.8,3.3,3.5,3]).reshape(-1, 1)"
      ],
      "execution_count": null,
      "outputs": []
    },
    {
      "cell_type": "code",
      "metadata": {
        "id": "ZD1_IPDKNxFn"
      },
      "source": [
        "from sklearn.preprocessing import PolynomialFeatures\n",
        "Xtr, Xtest, Ytr, Ytest = train_test_split(X, y, test_size=0.2, random_state=0)\n",
        "Xtrain, Xval, Ytrain, Yval = train_test_split(Xtr, Ytr, test_size=0.2, random_state=0)\n",
        "mse_tr = []\n",
        "mse_val = []\n",
        "max_deg = 10\n",
        "for i in range(max_deg):\n",
        "    poly=PolynomialFeatures(degree=i+1)\n",
        "\n",
        "    Xtrain_new = poly.fit_transform(Xtrain) \n",
        "    Xval_new = poly.fit_transform(Xval)\n",
        "    \n",
        "    regr.fit(Xtrain_new, Ytrain)\n",
        "    pred_tr = regr.predict(Xtrain_new)\n",
        "    pred_v = regr.predict(Xval_new)\n",
        "    mse_tr.append(mean_squared_error(pred_tr, Ytrain))\n",
        "    mse_val.append(mean_squared_error(pred_v, Yval))\n",
        "    "
      ],
      "execution_count": null,
      "outputs": []
    },
    {
      "cell_type": "code",
      "metadata": {
        "colab": {
          "base_uri": "https://localhost:8080/",
          "height": 296
        },
        "id": "IxGQh03cNxFn",
        "outputId": "2d956e3b-42db-4096-e9b7-3a0a8deda381"
      },
      "source": [
        "plt.plot(range(1, max_deg+1), mse_tr, label='Training')\n",
        "plt.plot(range(1, max_deg+1), mse_val, label='Validation')\n",
        "plt.legend()\n",
        "plt.xlabel('Degree')\n",
        "plt.ylabel('MSE')"
      ],
      "execution_count": null,
      "outputs": [
        {
          "output_type": "execute_result",
          "data": {
            "text/plain": [
              "Text(0, 0.5, 'MSE')"
            ]
          },
          "metadata": {
            "tags": []
          },
          "execution_count": 30
        },
        {
          "output_type": "display_data",
          "data": {
            "image/png": "[encoded data removed]",
            "text/plain": [
              "<Figure size 432x288 with 1 Axes>"
            ]
          },
          "metadata": {
            "tags": [],
            "needs_background": "light"
          }
        }
      ]
    },
    {
      "cell_type": "code",
      "metadata": {
        "colab": {
          "base_uri": "https://localhost:8080/"
        },
        "id": "Ef_8xptuNxFn",
        "outputId": "7da9256c-5304-45dd-d7b8-924c75b58cb1"
      },
      "source": [
        "Xtest_new = poly.fit_transform(Xtest)\n",
        "pred_test = regr.predict(Xtest_new)\n",
        "mean_squared_error(pred_test, Ytest)"
      ],
      "execution_count": null,
      "outputs": [
        {
          "output_type": "execute_result",
          "data": {
            "text/plain": [
              "0.059204210569072185"
            ]
          },
          "metadata": {
            "tags": []
          },
          "execution_count": 31
        }
      ]
    },
    {
      "cell_type": "code",
      "metadata": {
        "id": "Geg9xO1KNxFo"
      },
      "source": [
        ""
      ],
      "execution_count": null,
      "outputs": []
    },
    {
      "cell_type": "code",
      "metadata": {
        "id": "OQEdOj-3NxFo"
      },
      "source": [
        ""
      ],
      "execution_count": null,
      "outputs": []
    }
  ]
}